{
 "cells": [
  {
   "cell_type": "code",
   "execution_count": 7,
   "id": "11fb3390-8b08-4192-893b-fc952caee866",
   "metadata": {},
   "outputs": [],
   "source": [
    "from bs4 import BeautifulSoup"
   ]
  },
  {
   "cell_type": "markdown",
   "id": "15dda681-832a-45fb-a148-5b45899b3465",
   "metadata": {},
   "source": [
    "# Collect Data"
   ]
  },
  {
   "cell_type": "markdown",
   "id": "4bdce616-486c-4815-bb20-7a1db9e9c1d4",
   "metadata": {
    "jp-MarkdownHeadingCollapsed": true
   },
   "source": [
    "### Scrape Annenberg Landing Page"
   ]
  },
  {
   "cell_type": "code",
   "execution_count": 2,
   "id": "b740da8a-9b58-4821-af1f-c3df7275f9f6",
   "metadata": {},
   "outputs": [],
   "source": [
    "# mv /Users/spangher/Downloads/one_year_annenberg_media.html ."
   ]
  },
  {
   "cell_type": "code",
   "execution_count": 6,
   "id": "0ee45779-f317-463b-9439-be963d865da2",
   "metadata": {},
   "outputs": [],
   "source": [
    "landing_page_html = open('../data/one_year_annenberg_media.html').read()"
   ]
  },
  {
   "cell_type": "code",
   "execution_count": 8,
   "id": "71cf8f17-d7ee-4153-9655-7d49faa35334",
   "metadata": {},
   "outputs": [],
   "source": [
    "soup = BeautifulSoup(landing_page_html)"
   ]
  },
  {
   "cell_type": "code",
   "execution_count": 11,
   "id": "a9d78325-e37b-4b4f-8ef4-ef3d7e151d5b",
   "metadata": {},
   "outputs": [],
   "source": [
    "all_list_items = soup.find_all('div', attrs={'class': 'list-item'})"
   ]
  },
  {
   "cell_type": "code",
   "execution_count": 12,
   "id": "27622931-5266-4997-814f-fe9813da661d",
   "metadata": {},
   "outputs": [
    {
     "data": {
      "text/plain": [
       "40"
      ]
     },
     "execution_count": 12,
     "metadata": {},
     "output_type": "execute_result"
    }
   ],
   "source": [
    "len(all_list_items)"
   ]
  },
  {
   "cell_type": "code",
   "execution_count": 15,
   "id": "fa917099-8dfb-4ce5-acd6-50997f5e0904",
   "metadata": {},
   "outputs": [
    {
     "data": {
      "text/plain": [
       "<Response url='https://www.uscannenbergmedia.com/allnews/' request=<Request url='https://www.uscannenbergmedia.com/allnews/' method='GET'>>"
      ]
     },
     "execution_count": 15,
     "metadata": {},
     "output_type": "execute_result"
    }
   ],
   "source": [
    "import asyncio\n",
    "from playwright.async_api import async_playwright\n",
    "\n",
    "playwright = await async_playwright().start()\n",
    "browser = await playwright.chromium.launch(headless=False)\n",
    "page = await browser.new_page()\n",
    "        \n",
    "# To run this in Jupyter, use:\n",
    "url = \"https://www.uscannenbergmedia.com/allnews/\"\n",
    "await page.goto(url)"
   ]
  },
  {
   "cell_type": "code",
   "execution_count": 16,
   "id": "15e4d2d7-2122-43f0-8fc8-b041ef70e3ac",
   "metadata": {},
   "outputs": [],
   "source": [
    "n_scrolls = 5  # Replace with however many scrolls you want\n",
    "# page_content = await scroll_and_click_more(url, n_scrolls)\n",
    "\n",
    "# To display the page content in a notebook\n",
    "# print(page_content[:1000])  # Display the first 1000 characters"
   ]
  },
  {
   "cell_type": "code",
   "execution_count": 20,
   "id": "0db3fc60-a5ed-406b-b624-243b607a3a66",
   "metadata": {},
   "outputs": [
    {
     "data": {
      "application/vnd.jupyter.widget-view+json": {
       "model_id": "c1b3f2734eb1485a85b9a48e61b9dacd",
       "version_major": 2,
       "version_minor": 0
      },
      "text/plain": [
       "  0%|          | 0/100 [00:00<?, ?it/s]"
      ]
     },
     "metadata": {},
     "output_type": "display_data"
    }
   ],
   "source": [
    "import time\n",
    "from tqdm.auto import tqdm\n",
    "for _ in tqdm(range(100)):\n",
    "    # Scroll to the bottom of the page\n",
    "    await page.evaluate(\"window.scrollTo(0, document.body.scrollHeight)\")\n",
    "    await asyncio.sleep(1)  # Give the page time to load\n",
    "\n",
    "    try:\n",
    "        await page.click(\"div.see-more\")\n",
    "    except:\n",
    "        print(\"See More button not found or no more content to load.\")\n",
    "        break\n",
    "    \n",
    "    # Optional delay to avoid rate limiting or too-fast scrolling\n",
    "    time.sleep(2)"
   ]
  },
  {
   "cell_type": "code",
   "execution_count": 21,
   "id": "ef23e482-347a-428e-ba73-1e198a1464ff",
   "metadata": {},
   "outputs": [],
   "source": [
    "html = await page.content()"
   ]
  },
  {
   "cell_type": "code",
   "execution_count": 25,
   "id": "a6060532-a528-41c7-a932-1640940d0254",
   "metadata": {},
   "outputs": [],
   "source": [
    "with open('../data/batch_collection_annenberg_media.html', 'w') as f:\n",
    "    f.write(html)"
   ]
  },
  {
   "cell_type": "markdown",
   "id": "653b9880-1ce0-4c58-8551-f1a392156a02",
   "metadata": {},
   "source": [
    "### Scrape article pages"
   ]
  },
  {
   "cell_type": "code",
   "execution_count": 22,
   "id": "ed2b2cd7-4c90-415e-8b98-f58f79483c7f",
   "metadata": {},
   "outputs": [],
   "source": [
    "soup = BeautifulSoup(html)"
   ]
  },
  {
   "cell_type": "code",
   "execution_count": 23,
   "id": "341c64ff-7d03-4753-a1d0-5516749fdbfd",
   "metadata": {},
   "outputs": [],
   "source": [
    "all_list_items = soup.find_all('div', attrs={'class': 'list-item'})"
   ]
  },
  {
   "cell_type": "code",
   "execution_count": 39,
   "id": "0decd38c-d680-4746-81cc-83741164d444",
   "metadata": {},
   "outputs": [],
   "source": [
    "all_urls = list(map(lambda x: x.find('a')['href'], all_list_items))"
   ]
  },
  {
   "cell_type": "code",
   "execution_count": 40,
   "id": "d9efe98d-3245-42d7-b164-7e269959bcd7",
   "metadata": {},
   "outputs": [],
   "source": [
    "homepage_domain = 'https://www.uscannenbergmedia.com'"
   ]
  },
  {
   "cell_type": "code",
   "execution_count": 41,
   "id": "a5d4bfe5-7e37-4340-be8e-4d14a87a7f92",
   "metadata": {},
   "outputs": [],
   "source": [
    "# await page.goto(url)"
   ]
  },
  {
   "cell_type": "code",
   "execution_count": 32,
   "id": "767822e4-812e-4dc5-a59a-16783c7ee009",
   "metadata": {},
   "outputs": [],
   "source": [
    "import requests"
   ]
  },
  {
   "cell_type": "code",
   "execution_count": 43,
   "id": "e9b5290f-9854-4101-a292-36aa5b5d5411",
   "metadata": {},
   "outputs": [
    {
     "data": {
      "application/vnd.jupyter.widget-view+json": {
       "model_id": "d73012169c2c4aa4af087967fa6e2d3e",
       "version_major": 2,
       "version_minor": 0
      },
      "text/plain": [
       "  0%|          | 0/4240 [00:00<?, ?it/s]"
      ]
     },
     "metadata": {},
     "output_type": "display_data"
    }
   ],
   "source": [
    "all_article_pages = []\n",
    "for url in tqdm(all_urls):\n",
    "    r = requests.get(f'{homepage_domain}/{url}')\n",
    "    all_article_pages.append(r.text)"
   ]
  },
  {
   "cell_type": "code",
   "execution_count": 47,
   "id": "6228369b-9947-435a-9467-044eedf571b4",
   "metadata": {},
   "outputs": [
    {
     "name": "stdout",
     "output_type": "stream",
     "text": [
      "batch_collection_annenberg_media.html  one_year_annenberg_media.html\n"
     ]
    }
   ],
   "source": [
    "ls ../data/"
   ]
  },
  {
   "cell_type": "code",
   "execution_count": 48,
   "id": "6231175a-b39d-41e8-8981-18821f4d123f",
   "metadata": {},
   "outputs": [],
   "source": [
    "import pickle\n",
    "with open('../data/batch_collection_annenberg_html.pkl', 'wb') as f:\n",
    "    pickle.dump( all_article_pages, f)"
   ]
  },
  {
   "cell_type": "code",
   "execution_count": 50,
   "id": "84ba1534-e386-42a0-8b2c-941d2922bb8b",
   "metadata": {},
   "outputs": [],
   "source": [
    "all_articles_parsed = list(map(lambda x: BeautifulSoup(x).get_text(' '), all_article_pages))"
   ]
  },
  {
   "cell_type": "code",
   "execution_count": 51,
   "id": "fe04c6de-3a17-44e9-a123-64667c97cc1d",
   "metadata": {},
   "outputs": [],
   "source": [
    "import pandas as pd "
   ]
  },
  {
   "cell_type": "code",
   "execution_count": 54,
   "id": "8c28f190-3921-4dd5-b5ba-25c17faf2c57",
   "metadata": {},
   "outputs": [],
   "source": [
    "article_df = pd.DataFrame([all_urls, all_articles_parsed], index=['url', 'article_text']).T"
   ]
  },
  {
   "cell_type": "code",
   "execution_count": 56,
   "id": "8f8f26cb-b758-403b-a6aa-a0b0d2734201",
   "metadata": {},
   "outputs": [],
   "source": [
    "article_df.to_csv('../data/batch_article_text.csv')"
   ]
  },
  {
   "cell_type": "code",
   "execution_count": 57,
   "id": "e15e0bbd-56c1-4a42-b7a5-2bbe938d2375",
   "metadata": {},
   "outputs": [
    {
     "data": {
      "text/html": [
       "<div>\n",
       "<style scoped>\n",
       "    .dataframe tbody tr th:only-of-type {\n",
       "        vertical-align: middle;\n",
       "    }\n",
       "\n",
       "    .dataframe tbody tr th {\n",
       "        vertical-align: top;\n",
       "    }\n",
       "\n",
       "    .dataframe thead th {\n",
       "        text-align: right;\n",
       "    }\n",
       "</style>\n",
       "<table border=\"1\" class=\"dataframe\">\n",
       "  <thead>\n",
       "    <tr style=\"text-align: right;\">\n",
       "      <th></th>\n",
       "      <th>url</th>\n",
       "      <th>article_text</th>\n",
       "    </tr>\n",
       "  </thead>\n",
       "  <tbody>\n",
       "    <tr>\n",
       "      <th>0</th>\n",
       "      <td>/2024/10/08/dream-big-says-ezra-frech-a-two-ti...</td>\n",
       "      <td>‘Dream big’ says Ezra Frech, a two-time Paraly...</td>\n",
       "    </tr>\n",
       "    <tr>\n",
       "      <th>1</th>\n",
       "      <td>/2024/10/08/the-big-ten-breakdown-vol-3/</td>\n",
       "      <td>The Big Ten Breakdown Vol. 3: – Annenberg Medi...</td>\n",
       "    </tr>\n",
       "    <tr>\n",
       "      <th>2</th>\n",
       "      <td>/2024/10/08/review-linkin-park-marks-their-com...</td>\n",
       "      <td>Review: Linkin Park marks their comeback on a ...</td>\n",
       "    </tr>\n",
       "    <tr>\n",
       "      <th>3</th>\n",
       "      <td>/2024/10/07/call-her-president/</td>\n",
       "      <td>Call Her President?   – Annenberg Media \\n \\n ...</td>\n",
       "    </tr>\n",
       "    <tr>\n",
       "      <th>4</th>\n",
       "      <td>/2024/10/07/usc-jewish-student-organizations-h...</td>\n",
       "      <td>USC Jewish student organizations host vigil fo...</td>\n",
       "    </tr>\n",
       "    <tr>\n",
       "      <th>...</th>\n",
       "      <td>...</td>\n",
       "      <td>...</td>\n",
       "    </tr>\n",
       "    <tr>\n",
       "      <th>4235</th>\n",
       "      <td>/2022/09/30/where-yoga-and-art-meet-how-one-in...</td>\n",
       "      <td>Where yoga and art meet: how one instructor br...</td>\n",
       "    </tr>\n",
       "    <tr>\n",
       "      <th>4236</th>\n",
       "      <td>/2022/09/30/grgurevic-mckenney-lead-usc-to-a-c...</td>\n",
       "      <td>Grgurevic, McKenney lead USC to a comeback vic...</td>\n",
       "    </tr>\n",
       "    <tr>\n",
       "      <th>4237</th>\n",
       "      <td>/2022/09/30/is-our-livelihood-not-important-re...</td>\n",
       "      <td>“Is our livelihood not important?”: Residents ...</td>\n",
       "    </tr>\n",
       "    <tr>\n",
       "      <th>4238</th>\n",
       "      <td>/2022/09/30/newsom-signs-law-allowing-californ...</td>\n",
       "      <td>Newsom signs law allowing California farmworke...</td>\n",
       "    </tr>\n",
       "    <tr>\n",
       "      <th>4239</th>\n",
       "      <td>/2022/09/30/what-call-me-crazy-told-me-about-m...</td>\n",
       "      <td>What “Call Me Crazy’” told me about myself – A...</td>\n",
       "    </tr>\n",
       "  </tbody>\n",
       "</table>\n",
       "<p>4240 rows × 2 columns</p>\n",
       "</div>"
      ],
      "text/plain": [
       "                                                    url  \\\n",
       "0     /2024/10/08/dream-big-says-ezra-frech-a-two-ti...   \n",
       "1              /2024/10/08/the-big-ten-breakdown-vol-3/   \n",
       "2     /2024/10/08/review-linkin-park-marks-their-com...   \n",
       "3                       /2024/10/07/call-her-president/   \n",
       "4     /2024/10/07/usc-jewish-student-organizations-h...   \n",
       "...                                                 ...   \n",
       "4235  /2022/09/30/where-yoga-and-art-meet-how-one-in...   \n",
       "4236  /2022/09/30/grgurevic-mckenney-lead-usc-to-a-c...   \n",
       "4237  /2022/09/30/is-our-livelihood-not-important-re...   \n",
       "4238  /2022/09/30/newsom-signs-law-allowing-californ...   \n",
       "4239  /2022/09/30/what-call-me-crazy-told-me-about-m...   \n",
       "\n",
       "                                           article_text  \n",
       "0     ‘Dream big’ says Ezra Frech, a two-time Paraly...  \n",
       "1     The Big Ten Breakdown Vol. 3: – Annenberg Medi...  \n",
       "2     Review: Linkin Park marks their comeback on a ...  \n",
       "3     Call Her President?   – Annenberg Media \\n \\n ...  \n",
       "4     USC Jewish student organizations host vigil fo...  \n",
       "...                                                 ...  \n",
       "4235  Where yoga and art meet: how one instructor br...  \n",
       "4236  Grgurevic, McKenney lead USC to a comeback vic...  \n",
       "4237  “Is our livelihood not important?”: Residents ...  \n",
       "4238  Newsom signs law allowing California farmworke...  \n",
       "4239  What “Call Me Crazy’” told me about myself – A...  \n",
       "\n",
       "[4240 rows x 2 columns]"
      ]
     },
     "execution_count": 57,
     "metadata": {},
     "output_type": "execute_result"
    }
   ],
   "source": [
    "article_df"
   ]
  },
  {
   "cell_type": "code",
   "execution_count": null,
   "id": "e48319ee-dd83-415a-847e-affc36e4bfb8",
   "metadata": {},
   "outputs": [],
   "source": []
  },
  {
   "cell_type": "code",
   "execution_count": 44,
   "id": "4be71d48-dacf-45b2-880b-46e95ebf1526",
   "metadata": {},
   "outputs": [],
   "source": [
    "# print(BeautifulSoup(r.text).get_text(' '))"
   ]
  },
  {
   "cell_type": "code",
   "execution_count": null,
   "id": "6c80cb92-bbb5-4217-ad3d-f45a350904e1",
   "metadata": {},
   "outputs": [],
   "source": []
  }
 ],
 "metadata": {
  "kernelspec": {
   "display_name": "Python 3 (ipykernel)",
   "language": "python",
   "name": "python3"
  },
  "language_info": {
   "codemirror_mode": {
    "name": "ipython",
    "version": 3
   },
   "file_extension": ".py",
   "mimetype": "text/x-python",
   "name": "python",
   "nbconvert_exporter": "python",
   "pygments_lexer": "ipython3",
   "version": "3.12.2"
  }
 },
 "nbformat": 4,
 "nbformat_minor": 5
}
