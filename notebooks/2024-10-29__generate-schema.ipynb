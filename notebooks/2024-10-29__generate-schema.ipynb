{
 "cells": [
  {
   "cell_type": "code",
   "execution_count": 18,
   "id": "55fab211-238f-46d2-b667-c982cc19ec28",
   "metadata": {},
   "outputs": [],
   "source": [
    "import openai\n",
    "import pandas as pd \n",
    "import numpy as np \n",
    "import sys\n",
    "sys.path.insert(0, '../make_source_label_hierarchy/')\n",
    "import os\n",
    "# os.environ['OPENAI_API_KEY']=open('/Users/spangher/.openai-my-project-key.txt').read().strip()\n",
    "os.environ['OPENAI_API_KEY']=open('/Users/spangher/.openai-bloomberg-project-key.txt').read().strip()\n",
    "client = openai.OpenAI()\n",
    "def call_openai_completions(prompt, model_name='gpt-4o', max_tokens=1000):\n",
    "    \"\"\"\n",
    "    Call the OpenAI completions API with a given prompt.\n",
    "    \n",
    "    Args:\n",
    "    prompt (str): The prompt to send to the API.\n",
    "    model_name (str): The name of the model to use.\n",
    "    max_tokens (int): The maximum number of tokens to generate.\n",
    "    \n",
    "    Returns:\n",
    "    dict: The response from the OpenAI API.\n",
    "    \"\"\"\n",
    "    response = client.chat.completions.create(\n",
    "        model=model_name,\n",
    "        messages=[\n",
    "            {\"role\": \"system\", \"content\": \"You are a helpful journalist assistant.\"},\n",
    "            {\"role\": \"user\", \"content\": prompt}\n",
    "        ],\n",
    "    )\n",
    "    return response.choices[0].message.content\n",
    "\n",
    "LEAF_NODE_PROMPT = \"\"\"\n",
    "You are a helpful assistant. I will give you a set of discourse labels and descriptions for sentences in news articles, in the format:\n",
    "\"Label\": Description.\n",
    "Please summarize the labels and the descriptions into a single label and description. Make the label 2-3 words, max.\n",
    "If all the labels are the same, just copy the label. Ignore any topical information. Here are the labels:\n",
    "\n",
    "```{labels}```\n",
    "\n",
    "Be descriptive but not too broad. Please return just one label and one description. \n",
    "Make it in this format: \"Label\": Description\n",
    "\"\"\""
   ]
  },
  {
   "cell_type": "code",
   "execution_count": 10,
   "id": "d720ac18-6ad9-4032-b601-3b5947c2ead3",
   "metadata": {},
   "outputs": [],
   "source": [
    "import pandas as pd \n",
    "from sentence_transformers import SentenceTransformer\n",
    "import random"
   ]
  },
  {
   "cell_type": "code",
   "execution_count": 11,
   "id": "6693517a-9aa6-4f97-ab67-ef6588db11d4",
   "metadata": {},
   "outputs": [],
   "source": [
    "import os \n",
    "os.environ['TOKENIZERS_PARALLELISM'] = 'false'"
   ]
  },
  {
   "cell_type": "code",
   "execution_count": 13,
   "id": "fd5e1a87-99fd-4836-891a-b25c467f4e9c",
   "metadata": {},
   "outputs": [],
   "source": [
    "model_path = '../scripts/make_source_label_hierarchy/trained-model'\n",
    "model = SentenceTransformer(model_path)"
   ]
  },
  {
   "cell_type": "code",
   "execution_count": 14,
   "id": "a3ccd435-97cd-4663-b111-51f192ef01c2",
   "metadata": {},
   "outputs": [],
   "source": [
    "discourse_df = pd.read_csv('../data/all_extracted_discourse_with_clusters.csv.gz', index_col=0)"
   ]
  },
  {
   "cell_type": "code",
   "execution_count": 19,
   "id": "6467289c-f7f7-444e-8b3c-5f98e58dfe0c",
   "metadata": {},
   "outputs": [
    {
     "data": {
      "text/plain": [
       "'\"Main Event\": This sentence directly describes a primary event, focusing on its conclusion as the central point of the document.'"
      ]
     },
     "execution_count": 19,
     "metadata": {},
     "output_type": "execute_result"
    }
   ],
   "source": [
    "labels = (\n",
    "    discourse_df\n",
    "        .loc[lambda df: df['cluster'] == 3]\n",
    "        .drop_duplicates()\n",
    "        .pipe(lambda df: df.sample(min(len(df), 50)))['discourse_label'].str.strip()\n",
    ")\n",
    "call_openai_completions(prompt=LEAF_NODE_PROMPT.format(labels='\\n'.join(labels)))"
   ]
  },
  {
   "cell_type": "markdown",
   "id": "cbfe7f40-a3f1-4904-9fc0-550fef0a0cb2",
   "metadata": {},
   "source": [
    "# Generate labels for the clusters"
   ]
  },
  {
   "cell_type": "code",
   "execution_count": 30,
   "id": "4a308bc7-35f2-4ce9-8c89-0a18a9d70e43",
   "metadata": {},
   "outputs": [
    {
     "data": {
      "application/vnd.jupyter.widget-view+json": {
       "model_id": "2ae201f7473d42bd99add3ceb555da08",
       "version_major": 2,
       "version_minor": 0
      },
      "text/plain": [
       "  0%|          | 0/1024 [00:00<?, ?it/s]"
      ]
     },
     "metadata": {},
     "output_type": "display_data"
    }
   ],
   "source": [
    "from tqdm.auto import tqdm\n",
    "groups = list(discourse_df.groupby('cluster')['discourse_label'])\n",
    "child_node_summaries = {}\n",
    "for cluster_id, g in tqdm(groups):\n",
    "    g = g.dropna()\n",
    "    label_sample = g.sample(min(len(g), 50))\n",
    "    summary_label = call_openai_completions(prompt=LEAF_NODE_PROMPT.format(labels='\\n'.join(label_sample)))\n",
    "    child_node_summaries[cluster_id] = summary_label"
   ]
  },
  {
   "cell_type": "code",
   "execution_count": 31,
   "id": "3414e58c-65a8-40b8-b6bb-3cb4f58841eb",
   "metadata": {},
   "outputs": [],
   "source": [
    "child_node_summaries_s = pd.Series(child_node_summaries)\n",
    "child_node_summaries_s.to_csv('../data/initial_cluster_labels_2.csv')"
   ]
  },
  {
   "cell_type": "code",
   "execution_count": 32,
   "id": "1a375094-1451-42e9-938e-8194c395a7a4",
   "metadata": {},
   "outputs": [
    {
     "data": {
      "text/plain": [
       "'/Users/spangher/Projects/usc-research/news-discourse-students/notebooks'"
      ]
     },
     "execution_count": 32,
     "metadata": {},
     "output_type": "execute_result"
    }
   ],
   "source": [
    "pwd"
   ]
  },
  {
   "cell_type": "markdown",
   "id": "a08c78f4-0386-4a88-a7b7-bcdc70073238",
   "metadata": {},
   "source": [
    "# Cluster the clusters"
   ]
  },
  {
   "cell_type": "code",
   "execution_count": 35,
   "id": "787f7811-5662-41d4-a6e5-f0d148f7def2",
   "metadata": {},
   "outputs": [],
   "source": [
    "bins = [5, 7, 9, 11, 13, 15, 20, 25, 30]"
   ]
  },
  {
   "cell_type": "code",
   "execution_count": 36,
   "id": "09c4a843-d858-4dcb-9c97-77472e37618f",
   "metadata": {},
   "outputs": [],
   "source": [
    "from sklearn.cluster import KMeans\n",
    "import numpy as np\n",
    "\n",
    "cluster_centers = np.load('../data/cluster_centroids.npy')"
   ]
  },
  {
   "cell_type": "code",
   "execution_count": 37,
   "id": "5011bd16-8fa0-4e6d-af8a-0ddef413eb29",
   "metadata": {},
   "outputs": [],
   "source": [
    "MIDDLE_TREE_PROMPT = \"\"\"\n",
    "You are a helpful assistant. I will give you a set of discourse labels and descriptions for sentences in news articles, in the format:\n",
    "\"Label\": Description.\n",
    "Please summarize the labels and the descriptions into a single label and description. Make the label 2-3 words, max.\n",
    "If all the labels are the same, just copy the label. Ignore any topical information. Here are the labels:\n",
    "\n",
    "{labels}\n",
    "\n",
    "Be descriptive but not too broad. Please return just one label and one description. \n",
    "Make it in this format: \"Label\": Description\n",
    "\"\"\""
   ]
  },
  {
   "cell_type": "code",
   "execution_count": 38,
   "id": "bb783477-bbd5-4585-a05c-3478f9a62efb",
   "metadata": {},
   "outputs": [],
   "source": [
    "sample_weights = discourse_df['cluster'].value_counts().sort_index()\n",
    "initial_node_summaries_df = child_node_summaries_s.to_frame('cluster_summary')\n",
    "initial_node_summaries_df['sample_num'] = sample_weights"
   ]
  },
  {
   "cell_type": "code",
   "execution_count": 39,
   "id": "cfb39df6-35c9-4709-9c7f-f189b07c0e4d",
   "metadata": {},
   "outputs": [
    {
     "data": {
      "application/vnd.jupyter.widget-view+json": {
       "model_id": "169eb1995e774decab525ceb8aee7d2a",
       "version_major": 2,
       "version_minor": 0
      },
      "text/plain": [
       "  0%|          | 0/9 [00:00<?, ?it/s]"
      ]
     },
     "metadata": {},
     "output_type": "display_data"
    },
    {
     "data": {
      "application/vnd.jupyter.widget-view+json": {
       "model_id": "38049d6a7679487f915c0d9e14de7ef0",
       "version_major": 2,
       "version_minor": 0
      },
      "text/plain": [
       "  0%|          | 0/5 [00:00<?, ?it/s]"
      ]
     },
     "metadata": {},
     "output_type": "display_data"
    },
    {
     "data": {
      "application/vnd.jupyter.widget-view+json": {
       "model_id": "1414f0a152dd493d93d480cf141aaa62",
       "version_major": 2,
       "version_minor": 0
      },
      "text/plain": [
       "  0%|          | 0/7 [00:00<?, ?it/s]"
      ]
     },
     "metadata": {},
     "output_type": "display_data"
    },
    {
     "data": {
      "application/vnd.jupyter.widget-view+json": {
       "model_id": "5e24e14b42ff49d2abe39a9582464f24",
       "version_major": 2,
       "version_minor": 0
      },
      "text/plain": [
       "  0%|          | 0/9 [00:00<?, ?it/s]"
      ]
     },
     "metadata": {},
     "output_type": "display_data"
    },
    {
     "data": {
      "application/vnd.jupyter.widget-view+json": {
       "model_id": "da9a78442532479cb3bd0aa4bce562a6",
       "version_major": 2,
       "version_minor": 0
      },
      "text/plain": [
       "  0%|          | 0/11 [00:00<?, ?it/s]"
      ]
     },
     "metadata": {},
     "output_type": "display_data"
    },
    {
     "data": {
      "application/vnd.jupyter.widget-view+json": {
       "model_id": "5e23eacfe3214aca8961d1c08175ba57",
       "version_major": 2,
       "version_minor": 0
      },
      "text/plain": [
       "  0%|          | 0/13 [00:00<?, ?it/s]"
      ]
     },
     "metadata": {},
     "output_type": "display_data"
    },
    {
     "data": {
      "application/vnd.jupyter.widget-view+json": {
       "model_id": "3069711370a143f3a73053f491cfea64",
       "version_major": 2,
       "version_minor": 0
      },
      "text/plain": [
       "  0%|          | 0/15 [00:00<?, ?it/s]"
      ]
     },
     "metadata": {},
     "output_type": "display_data"
    },
    {
     "data": {
      "application/vnd.jupyter.widget-view+json": {
       "model_id": "666574dd8e284c18a524f59fe8bcee8a",
       "version_major": 2,
       "version_minor": 0
      },
      "text/plain": [
       "  0%|          | 0/20 [00:00<?, ?it/s]"
      ]
     },
     "metadata": {},
     "output_type": "display_data"
    },
    {
     "data": {
      "application/vnd.jupyter.widget-view+json": {
       "model_id": "49e7a6f1790b4f0a89df94f646e824fc",
       "version_major": 2,
       "version_minor": 0
      },
      "text/plain": [
       "  0%|          | 0/25 [00:00<?, ?it/s]"
      ]
     },
     "metadata": {},
     "output_type": "display_data"
    },
    {
     "data": {
      "application/vnd.jupyter.widget-view+json": {
       "model_id": "04d41aef0ae94d31b499080200bf66dc",
       "version_major": 2,
       "version_minor": 0
      },
      "text/plain": [
       "  0%|          | 0/30 [00:00<?, ?it/s]"
      ]
     },
     "metadata": {},
     "output_type": "display_data"
    }
   ],
   "source": [
    "all_cluster_summaries = {}\n",
    "for b in tqdm(bins):\n",
    "    kmeans = KMeans(b)\n",
    "    initial_node_summaries_df[f'cluster_{b}'] = kmeans.fit_predict(cluster_centers, sample_weight=sample_weights)\n",
    "    groups = list(initial_node_summaries_df.groupby(f'cluster_{b}')['cluster_summary'])\n",
    "    child_node_summaries = {}\n",
    "    for cluster_id, g in tqdm(groups):\n",
    "        g = g.dropna()\n",
    "        label_sample = g.sample(min(len(g), 50))\n",
    "        summary_label = call_openai_completions(prompt=MIDDLE_TREE_PROMPT.format(labels='\\n'.join(label_sample)))\n",
    "        num_orig_items = initial_node_summaries_df.loc[lambda df: df[f'cluster_{b}'] == cluster_id]['sample_num'].sum()\n",
    "        child_node_summaries[cluster_id] = (summary_label, num_orig_items)\n",
    "    all_cluster_summaries[b] = child_node_summaries"
   ]
  },
  {
   "cell_type": "code",
   "execution_count": 49,
   "id": "10be0b73-6bee-458e-83e5-5171e981a067",
   "metadata": {
    "scrolled": true
   },
   "outputs": [],
   "source": [
    "idx_to_focus = 11\n",
    "clustered_labels = (\n",
    "    pd.DataFrame(all_cluster_summaries[idx_to_focus]).T#[0]\n",
    "         .rename(columns={0:'Description', 1:'Count'})\n",
    "         .sort_values('Count', ascending=False)\n",
    ")"
   ]
  },
  {
   "cell_type": "code",
   "execution_count": 50,
   "id": "b08bce53-8ef8-4f33-8b3f-bd3cea87d4a6",
   "metadata": {},
   "outputs": [
    {
     "data": {
      "text/html": [
       "<div>\n",
       "<style scoped>\n",
       "    .dataframe tbody tr th:only-of-type {\n",
       "        vertical-align: middle;\n",
       "    }\n",
       "\n",
       "    .dataframe tbody tr th {\n",
       "        vertical-align: top;\n",
       "    }\n",
       "\n",
       "    .dataframe thead th {\n",
       "        text-align: right;\n",
       "    }\n",
       "</style>\n",
       "<table border=\"1\" class=\"dataframe\">\n",
       "  <thead>\n",
       "    <tr style=\"text-align: right;\">\n",
       "      <th></th>\n",
       "      <th>Description</th>\n",
       "      <th>Count</th>\n",
       "    </tr>\n",
       "  </thead>\n",
       "  <tbody>\n",
       "    <tr>\n",
       "      <th>1</th>\n",
       "      <td>\"Background Information\": This label encompass...</td>\n",
       "      <td>40269</td>\n",
       "    </tr>\n",
       "    <tr>\n",
       "      <th>6</th>\n",
       "      <td>\"Specific Detail\": This label encompasses sent...</td>\n",
       "      <td>29996</td>\n",
       "    </tr>\n",
       "    <tr>\n",
       "      <th>2</th>\n",
       "      <td>\"Quote\": A direct statement from a source prov...</td>\n",
       "      <td>26557</td>\n",
       "    </tr>\n",
       "    <tr>\n",
       "      <th>3</th>\n",
       "      <td>\"Main Event\": This label encompasses sentences...</td>\n",
       "      <td>22933</td>\n",
       "    </tr>\n",
       "    <tr>\n",
       "      <th>10</th>\n",
       "      <td>\"Reflection\": This description provides insigh...</td>\n",
       "      <td>22649</td>\n",
       "    </tr>\n",
       "    <tr>\n",
       "      <th>0</th>\n",
       "      <td>\"Transition\": This sentence signals a shift in...</td>\n",
       "      <td>16033</td>\n",
       "    </tr>\n",
       "    <tr>\n",
       "      <th>4</th>\n",
       "      <td>\"Introduction\": This sentence introduces the m...</td>\n",
       "      <td>11366</td>\n",
       "    </tr>\n",
       "    <tr>\n",
       "      <th>5</th>\n",
       "      <td>\"Future Outlook\": This category encompasses se...</td>\n",
       "      <td>9901</td>\n",
       "    </tr>\n",
       "    <tr>\n",
       "      <th>9</th>\n",
       "      <td>\"Conclusion\": This sentence serves as a final ...</td>\n",
       "      <td>6523</td>\n",
       "    </tr>\n",
       "    <tr>\n",
       "      <th>7</th>\n",
       "      <td>\"Counterpoint\": This sentence provides an oppo...</td>\n",
       "      <td>5501</td>\n",
       "    </tr>\n",
       "    <tr>\n",
       "      <th>8</th>\n",
       "      <td>\"Correction\": Provides a correction or clarifi...</td>\n",
       "      <td>5153</td>\n",
       "    </tr>\n",
       "  </tbody>\n",
       "</table>\n",
       "</div>"
      ],
      "text/plain": [
       "                                          Description  Count\n",
       "1   \"Background Information\": This label encompass...  40269\n",
       "6   \"Specific Detail\": This label encompasses sent...  29996\n",
       "2   \"Quote\": A direct statement from a source prov...  26557\n",
       "3   \"Main Event\": This label encompasses sentences...  22933\n",
       "10  \"Reflection\": This description provides insigh...  22649\n",
       "0   \"Transition\": This sentence signals a shift in...  16033\n",
       "4   \"Introduction\": This sentence introduces the m...  11366\n",
       "5   \"Future Outlook\": This category encompasses se...   9901\n",
       "9   \"Conclusion\": This sentence serves as a final ...   6523\n",
       "7   \"Counterpoint\": This sentence provides an oppo...   5501\n",
       "8   \"Correction\": Provides a correction or clarifi...   5153"
      ]
     },
     "execution_count": 50,
     "metadata": {},
     "output_type": "execute_result"
    }
   ],
   "source": [
    "clustered_labels"
   ]
  },
  {
   "cell_type": "code",
   "execution_count": 56,
   "id": "75d36e43-0b74-4499-be0f-3b1f24c501ea",
   "metadata": {
    "scrolled": true
   },
   "outputs": [],
   "source": [
    "data_to_label = (\n",
    "    discourse_df\n",
    "         .merge(\n",
    "             initial_node_summaries_df[['cluster_5', 'cluster_11', 'cluster_13', 'cluster_20']],\n",
    "             left_on='cluster',\n",
    "             right_index=True\n",
    "         )\n",
    "         .drop(columns=\"cluster\")\n",
    "         .merge(clustered_labels, left_on=f'cluster_{idx_to_focus}', right_index=True)\n",
    ")   "
   ]
  },
  {
   "cell_type": "markdown",
   "id": "3f286598-87b4-45cc-b27a-f9a7fb380e45",
   "metadata": {},
   "source": [
    "# Make Few-Shot"
   ]
  },
  {
   "cell_type": "code",
   "execution_count": 117,
   "id": "b67095c5-bb65-458f-8f08-7737d7176f91",
   "metadata": {},
   "outputs": [],
   "source": [
    "import numpy as np \n",
    "\n",
    "FEW_SHOT_PROMPT = \"\"\"I am trying to find good examples to use for demonstrating a label.\n",
    "Here is the label: {label}. The definition for the label is: {definition}.\n",
    "\n",
    "Here are a large set of examples I have, alone with notes for each one:\n",
    "[Start Examples]\n",
    "{examples}\n",
    "[End Examples]\n",
    "\n",
    "Some examples are bad. Please choose 4 examples that best represent this label. Try to pick diverse ones. \n",
    "Return the examples and the notes, and copy them fully. \n",
    "Return as a json. Be careful to format the quotes correctly.\n",
    "\"\"\"\n",
    "CORRECT_JSON_PROMPT = '''Here is a poorly formatted json. Please correct it: \n",
    "\n",
    "{r}\n",
    "\n",
    "Return just the corrected JSON. Be careful about getting the quote structure right. Don't change anything about the content.\n",
    "'''"
   ]
  },
  {
   "cell_type": "code",
   "execution_count": 158,
   "id": "362128b8-5a03-4089-9865-2478d1669d28",
   "metadata": {},
   "outputs": [
    {
     "data": {
      "application/vnd.jupyter.widget-view+json": {
       "model_id": "0ba5815561494ef592c8b9c2d08bf61d",
       "version_major": 2,
       "version_minor": 0
      },
      "text/plain": [
       "  0%|          | 0/7240 [00:00<?, ?it/s]"
      ]
     },
     "metadata": {},
     "output_type": "display_data"
    }
   ],
   "source": [
    "import glob\n",
    "files = glob.glob('../data/article_text/*')\n",
    "article_text_df = pd.concat(list(map(lambda x: pd.read_json(x, lines=True), files)))\n",
    "\n",
    "import spacy\n",
    "nlp = spacy.load('en_core_web_lg')\n",
    "\n",
    "_spacy_model = None\n",
    "def load_spacy_model():\n",
    "    global _spacy_model\n",
    "    if _spacy_model is None:\n",
    "        import spacy\n",
    "        _spacy_model = spacy.load(\"en_core_web_lg\")\n",
    "        _spacy_model.disable_pipes(*[pipe for pipe in _spacy_model.pipe_names if pipe != 'senter'])\n",
    "        _spacy_model.add_pipe('sentencizer')\n",
    "    return _spacy_model\n",
    "\n",
    "\n",
    "def sentencize_text_column(s):\n",
    "    nlp = load_spacy_model()\n",
    "    all_sents = []\n",
    "    for doc in tqdm(nlp.pipe(s.tolist(), batch_size=100, n_process=1), total=len(s)):\n",
    "        all_sents.append(list(map(str, doc.sents)))\n",
    "    return all_sents\n",
    "\n",
    "article_text_df['sentences'] = article_text_df['response'].str.replace('`', '').str.strip().pipe(sentencize_text_column)\n",
    "\n",
    "valid_sentence_parses = pd.concat([\n",
    "    (data_to_label['key']\n",
    "         .drop_duplicates()\n",
    "         .str.split('__')\n",
    "         .str.get(0)\n",
    "         .str.strip()\n",
    "         .value_counts()\n",
    "   ).to_frame('discourse_sent_counts'),\n",
    "    article_text_df.explode('sentences')['key'].value_counts().to_frame('orig_sent_counts')  \n",
    "], axis=1).loc[lambda df: df['discourse_sent_counts'] == df['orig_sent_counts']]\n",
    "\n",
    "# article_text = pd.read_csv('../data/batch_article_text.csv', index_col=0)\n",
    "article_text = pd.read_csv('../data/all_extracted_discourse_with_clusters.csv.gz', index_col=0)\n",
    "\n",
    "data_to_label_with_text = (\n",
    "    article_text_df\n",
    "         .loc[lambda df: df['key'].isin(valid_sentence_parses.index)]\n",
    "         .explode('sentences')\n",
    "         .assign(sent_idx=lambda df: df.groupby('key').cumcount())\n",
    "         .assign(key=lambda df: df['key'] + '__' + df['sent_idx'].astype(str))\n",
    "         [['key', 'sentences', 'response']]\n",
    "         .rename(columns={'response':'document'})\n",
    "         .merge(data_to_label, on='key')\n",
    ")"
   ]
  },
  {
   "cell_type": "code",
   "execution_count": null,
   "id": "c73027f0-743c-4a22-8a83-37442a77d470",
   "metadata": {
    "scrolled": true
   },
   "outputs": [],
   "source": [
    "import json\n",
    "import ast \n",
    "for idx_to_focus_on in tqdm([5, 11, 13, 20]):\n",
    "    examples_to_write = {}\n",
    "    label_df = (\n",
    "        pd.Series(all_cluster_summaries[idx_to_focus_on])\n",
    "             .str.get(0)\n",
    "             .str.split(':', expand=True)\n",
    "             .rename(columns={0:'keyword', 1:'definition'})\n",
    "             .assign(keyword=lambda df: df['keyword'].str.strip('```').str.replace('\"', ''))\n",
    "    )\n",
    "    example_df = (\n",
    "        data_to_label_with_text\n",
    "         [['sentences', f'cluster_{idx_to_focus_on}']]\n",
    "         .merge(label_df, left_on=f'cluster_{idx_to_focus_on}',right_index=True)\n",
    "    )\n",
    "    \n",
    "    for (keyword, definition), examples in example_df.groupby(['keyword', 'definition'])[['sentences']]:\n",
    "        examples = examples.sample(20)\n",
    "        formatted_examples = (\n",
    "            examples\n",
    "            .apply(lambda x: f\"Sentence: ```{x['sentences'].replace('\\n', ' ').strip()}```\", axis=1)\n",
    "        )\n",
    "        examples_to_choose_from = '\\n\\n'.join(formatted_examples)\n",
    "        prompt = FEW_SHOT_PROMPT.format(label=keyword, definition=definition, examples=examples_to_choose_from)\n",
    "        while True:\n",
    "            r = call_openai_completions(prompt)\n",
    "            r = r.replace('`', '').replace('python', '').replace('json', '').strip()\n",
    "            try:\n",
    "                r_parsed = ast.literal_eval(r)\n",
    "                break\n",
    "            except:\n",
    "                corrected_json = call_openai_completions(prompt=CORRECT_JSON_PROMPT.format(r=r))\n",
    "                r = r.replace('`', '').replace('json', '')\n",
    "                try:\n",
    "                    r_parsed = ast.literal_eval(r)\n",
    "                    break\n",
    "                except Exception as e:\n",
    "                    print(f'failed {e}: {r}')\n",
    "                    pass \n",
    "        examples_to_write[keyword] = r_parsed\n",
    "        \n",
    "    with open(f'../scripts/schema_labeling/few_shot_examples/examples_{idx_to_focus_on}.json', 'w') as f:\n",
    "        json.dump(examples_to_write, f)"
   ]
  },
  {
   "cell_type": "code",
   "execution_count": 130,
   "id": "6c93c531-fd07-40ec-bed3-d224d571d186",
   "metadata": {},
   "outputs": [
    {
     "name": "stdout",
     "output_type": "stream",
     "text": [
      "examples_11.json  examples_13.json  examples_20.json  examples_5.json\n"
     ]
    }
   ],
   "source": [
    "ls ../scripts/schema_labeling/few_shot_examples/"
   ]
  },
  {
   "cell_type": "markdown",
   "id": "6438421f-5430-4779-8ab7-98e66d31a306",
   "metadata": {},
   "source": [
    "# Label Sentence"
   ]
  },
  {
   "cell_type": "code",
   "execution_count": 138,
   "id": "a8f65e39-951d-4605-82e1-5fc51e4d744b",
   "metadata": {},
   "outputs": [],
   "source": [
    "DEFINITIONS_PROMPT = \"\"\"I will give you a news article and a single sentence from that article.\n",
    "Your goal is to assign a label to that sentence with a general discourse role that best describes it's purpose in the overall script.\n",
    "\n",
    "Choose from this list:\n",
    "\n",
    "{discourse_labels}\n",
    "\n",
    "Do NOT return any labels NOT in that list. Here are some shortened examples:\n",
    "\n",
    "```{examples}```\n",
    "\n",
    "Now it's your turn. Here is a news article:\n",
    "\n",
    "```{full_document}```\n",
    "\n",
    "What discourse role is this sentence in it serving?\n",
    "\n",
    "Sentence: ```{sentence}```\n",
    "Answer:\"\"\""
   ]
  },
  {
   "cell_type": "code",
   "execution_count": null,
   "id": "71f839f5-42e3-4856-8a96-a9e832d66350",
   "metadata": {},
   "outputs": [],
   "source": [
    "quote_labels = label_df.loc[lambda df: df['keyword'].str.lower().str.contains('quote')]['keyword'].tolist()\n",
    "examples.drop(quote_labels)"
   ]
  },
  {
   "cell_type": "code",
   "execution_count": 318,
   "id": "fc638161-4707-4472-a0f3-8dbf7f64a6c6",
   "metadata": {},
   "outputs": [],
   "source": [
    "text_df = data_to_label_with_text.copy()"
   ]
  },
  {
   "cell_type": "code",
   "execution_count": 319,
   "id": "8a2b3184-806b-43f0-b6eb-92134dc30e4b",
   "metadata": {},
   "outputs": [
    {
     "data": {
      "application/vnd.jupyter.widget-view+json": {
       "model_id": "87370ec8942943afb970a4c0dc808fb5",
       "version_major": 2,
       "version_minor": 0
      },
      "text/plain": [
       "  0%|          | 0/4 [00:00<?, ?it/s]"
      ]
     },
     "metadata": {},
     "output_type": "display_data"
    }
   ],
   "source": [
    "USE_QUOTES = False\n",
    "\n",
    "# text_df = article_text_df.explode('sentences')[['key', 'response', 'sentences']].rename(columns={'response': 'document'})\n",
    "text_df = data_to_label_with_text.copy()\n",
    "\n",
    "import jsonlines\n",
    "for idx_to_focus_on in tqdm([5, 11, 13, 20]):\n",
    "    label_df = (\n",
    "        pd.Series(all_cluster_summaries[idx_to_focus_on])\n",
    "             .str.get(0)\n",
    "             .str.split(':', expand=True)\n",
    "             .rename(columns={0:'keyword', 1: 'definition'})\n",
    "             .assign(keyword=lambda df: df['keyword'].str.strip('```').str.replace('\"', ''))\n",
    "    )\n",
    "    if not USE_QUOTES:\n",
    "        quote_labels = label_df.loc[lambda df: df['keyword'].str.lower().str.contains('quote')]['keyword'].tolist()\n",
    "        label_df = label_df.loc[lambda df: ~df['keyword'].isin(quote_labels)]\n",
    "    \n",
    "    definitions_block = '* ' + '\\n* '.join(label_df.pipe(lambda df: '\"' + df['keyword'] + '\": ' + df['definition']))    \n",
    "    examples_path = f'../scripts/schema_labeling/few_shot_examples/examples_{idx_to_focus_on}.json'\n",
    "    examples = json.load(open(examples_path))\n",
    "    examples = (\n",
    "        pd.Series(examples)\n",
    "             .apply(lambda x: x['examples'] if isinstance(x, dict) else x)\n",
    "             .apply(lambda x: x[:2]).explode().sample(frac=1)\n",
    "    )\n",
    "    if not USE_QUOTES:\n",
    "        examples = examples.drop(quote_labels)\n",
    "    \n",
    "    examples_str = []\n",
    "    for k, v in examples.items():\n",
    "        sentence = v.get('Sentence') or v.get('sentence')\n",
    "        assert sentence is not None\n",
    "        \n",
    "        examples_str.append(\n",
    "            f'''Sentence: ```{sentence}```\n",
    "            Answer: {k}\n",
    "            '''\n",
    "        )\n",
    "    examples_str = '\\n'.join(examples_str)\n",
    "    \n",
    "    all_prompts = []\n",
    "    for _, row in text_df.iterrows():\n",
    "        prompt = DEFINITIONS_PROMPT.format(\n",
    "            full_document=row['document'],\n",
    "            sentence=row['sentences'],\n",
    "            discourse_labels=definitions_block,\n",
    "            examples=examples_str,\n",
    "        )\n",
    "        all_prompts.append({\n",
    "            'key': row['key'],\n",
    "            f'prompt_{idx_to_focus_on}': prompt,\n",
    "            'use_quotes': USE_QUOTES\n",
    "        })\n",
    "    \n",
    "    prompt_df = pd.DataFrame(all_prompts)\n",
    "    text_df = text_df.merge(prompt_df)\n",
    "    # text_df = text_df.merge(\n",
    "        # label_df.rename(columns=lambda x: f'{x}_{idx_to_focus_on}'), right_index=True, left_on=f'cluster_{idx_to_focus_on}'\n",
    "    # )\n",
    "    \n",
    "    if False:\n",
    "        path = f'../scripts/schema_labeling/final_scripts_to_label/prompts_for_{idx_to_focus_on}'\n",
    "        os.makedirs(path, exist_ok=True)\n",
    "        prompt_df.to_csv(\n",
    "            f'{path}/final_prompt_df__schema_size_{idx_to_focus_on}.csv.gz',\n",
    "            compression='gzip'\n",
    "        )"
   ]
  },
  {
   "cell_type": "code",
   "execution_count": 257,
   "id": "14cd4a62-4a14-4670-9224-ddcd3b32a9c7",
   "metadata": {},
   "outputs": [],
   "source": [
    "cols = [\n",
    "    'key', \n",
    "    'sentences',\n",
    "    'keyword_5', \n",
    "    'keyword_11',\n",
    "    'keyword_13',\n",
    "    'keyword_20'\n",
    "]\n",
    "prompt_header_cols = [\n",
    "    'key',\n",
    "    'sentences',\n",
    "    'document',\n",
    "]\n",
    "prompt_cols = [\n",
    "    'prompt_5',\n",
    "    'prompt_11',\n",
    "    'prompt_13',\n",
    "    'prompt_20'\n",
    "]\n",
    "all_prompt_cols = prompt_header_cols + prompt_cols"
   ]
  },
  {
   "cell_type": "code",
   "execution_count": 258,
   "id": "efe0181b-32dd-4356-8205-7252c98cfee9",
   "metadata": {},
   "outputs": [],
   "source": [
    "short_articles_to_sample = (\n",
    "    text_df['key'].str.split('__').str.get(0)\n",
    "         .value_counts()\n",
    "         .loc[lambda s: s > 15]\n",
    "         .loc[lambda s: s < 40]\n",
    "         .index\n",
    ")"
   ]
  },
  {
   "cell_type": "code",
   "execution_count": 320,
   "id": "71f1457f-f65b-48e5-b931-7a0522936767",
   "metadata": {},
   "outputs": [],
   "source": [
    "REDO = False\n",
    "if REDO:\n",
    "    sample_to_prompt = (\n",
    "        text_df\n",
    "            .loc[lambda df: df['key'].str.split('__').str.get(0).isin(short_articles_to_sample.to_series().sample(5))]\n",
    "            [all_prompt_cols]\n",
    "    )\n",
    "else:\n",
    "    sample_to_prompt = text_df.loc[lambda df: df['key'].isin(output_df.index)][all_prompt_cols]"
   ]
  },
  {
   "cell_type": "code",
   "execution_count": 324,
   "id": "f5e66ec2-8cef-4e58-849b-ca7da33cb53a",
   "metadata": {},
   "outputs": [],
   "source": [
    "# output_df.loc[lambda df: df['prompt_11__with_quote_False'].isnull()]\n",
    "# data_to_label_with_text.loc[lambda df: df['key'].str.contains('/2023/04/13/usc-has-a-new-dps-chief/')]"
   ]
  },
  {
   "cell_type": "code",
   "execution_count": 331,
   "id": "d3b1b396-b1f6-41b7-b24d-0b1c91dc949e",
   "metadata": {},
   "outputs": [
    {
     "data": {
      "text/plain": [
       "'/2022/11/03/not-underestimating-cal-is-the-focus-of-wednesdays-practice/__0'"
      ]
     },
     "execution_count": 331,
     "metadata": {},
     "output_type": "execute_result"
    }
   ],
   "source": [
    "sample_to_prompt['key'].iloc[0]"
   ]
  },
  {
   "cell_type": "code",
   "execution_count": 333,
   "id": "7be7343a-52f1-437f-b333-29b008c05124",
   "metadata": {},
   "outputs": [],
   "source": [
    "sample_to_prompt = sample_to_prompt.loc[lambda df: df['key'].isin(output_df.loc[lambda df: df['prompt_11__with_quote_False'].isnull()].index)]"
   ]
  },
  {
   "cell_type": "code",
   "execution_count": 304,
   "id": "50480289-e43a-48e4-baa0-f1de73744557",
   "metadata": {},
   "outputs": [],
   "source": [
    "# output = list(filter(lambda x: 'with_quote' not in x['k'], output))"
   ]
  },
  {
   "cell_type": "code",
   "execution_count": 334,
   "id": "eae8a2cf-1f7c-4b02-954b-d221bb5c3584",
   "metadata": {},
   "outputs": [
    {
     "data": {
      "application/vnd.jupyter.widget-view+json": {
       "model_id": "d98cf6c8ca4c4f22983a16fae7e4260a",
       "version_major": 2,
       "version_minor": 0
      },
      "text/plain": [
       "  0%|          | 0/29 [00:00<?, ?it/s]"
      ]
     },
     "metadata": {},
     "output_type": "display_data"
    }
   ],
   "source": [
    "# output = []\n",
    "for _, row in tqdm(sample_to_prompt.iterrows(), total=len(sample_to_prompt)):\n",
    "    for k, p in row[prompt_cols].items():\n",
    "        output.append({\n",
    "            'key': row['key'],\n",
    "            'k': f'{k}__with_quote_{USE_QUOTES}',\n",
    "            'response': call_openai_completions(p)\n",
    "        })"
   ]
  },
  {
   "cell_type": "code",
   "execution_count": 362,
   "id": "045ef90f-c384-405c-8291-02458b409525",
   "metadata": {},
   "outputs": [],
   "source": [
    "output_df = pd.DataFrame(output)\n",
    "output_df = output_df.pivot(index='key', columns='k', values='response')#[prompt_cols]\n",
    "\n",
    "prompt_cols_w_wo_quote = (\n",
    "    list(filter(lambda x: any(map(lambda y: y in x, prompt_cols)) and 'with_quote_False' not in x, output_df.columns)) + \n",
    "    list(filter(lambda x: any(map(lambda y: y in x, prompt_cols)) and 'with_quote_False' in x, output_df.columns))\n",
    ")\n",
    "output_df = output_df[prompt_cols_w_wo_quote]\n",
    "output_df = output_df.reset_index()\n",
    "output_df[['url', 'sent_idx']] = output_df['key'].str.split('__', expand=True)\n",
    "output_df['sent_idx']= output_df['sent_idx'].astype(int)\n",
    "output_df= output_df.sort_values(['url', 'sent_idx'])\n",
    "output_df = output_df.merge(data_to_label_with_text[['key', 'sentences']])\n",
    "output_df = output_df.drop(columns='key').reset_index(drop=True)"
   ]
  },
  {
   "cell_type": "code",
   "execution_count": 363,
   "id": "2b49e482-e1fe-41df-9eb6-88cdfece17a4",
   "metadata": {},
   "outputs": [],
   "source": [
    "output_df.to_csv('cache/2024-11-05__prompts-to-evaluate.csv')"
   ]
  },
  {
   "cell_type": "code",
   "execution_count": null,
   "id": "c56da166-2ac2-416a-b914-9f0313f6a944",
   "metadata": {},
   "outputs": [],
   "source": []
  },
  {
   "cell_type": "code",
   "execution_count": null,
   "id": "c6c06472-70b8-4fb6-9df2-2439830cc656",
   "metadata": {},
   "outputs": [],
   "source": []
  },
  {
   "cell_type": "code",
   "execution_count": 400,
   "id": "562621d3-bb13-401b-8184-a59f0044a889",
   "metadata": {
    "scrolled": true
   },
   "outputs": [],
   "source": [
    "pyperclip.copy(text_df[['key', 'discourse_label']]\n",
    " .assign(url=lambda df: df['key'].str.split('__').str.get(0))\n",
    " .assign(sent_idx=lambda df: df['key'].str.split('__').str.get(1).astype(int))\n",
    " .sort_values(['url', 'sent_idx'])\n",
    " .loc[lambda df: df['url'] == '/2023/02/15/rhode-island-school-of-design-omits-itself-from-us-news-world-report-rankings/']\n",
    " ['discourse_label']\n",
    " .str.replace('\"', '')\n",
    " .str.strip()\n",
    " .str.split(':', expand=True)\n",
    " .to_csv(index=False, sep='\\t')\n",
    ")"
   ]
  },
  {
   "cell_type": "code",
   "execution_count": null,
   "id": "acdafd78-7a20-4e54-b6e7-d57267183238",
   "metadata": {},
   "outputs": [],
   "source": []
  },
  {
   "cell_type": "code",
   "execution_count": null,
   "id": "4db34985-1071-4363-ab4c-4772529e3930",
   "metadata": {},
   "outputs": [],
   "source": []
  },
  {
   "cell_type": "code",
   "execution_count": null,
   "id": "3da676af-9fea-4a46-b8b0-963a9052f45a",
   "metadata": {},
   "outputs": [],
   "source": []
  },
  {
   "cell_type": "code",
   "execution_count": null,
   "id": "fb8ff858-1306-4f99-852c-82e5a4e6f1e3",
   "metadata": {},
   "outputs": [],
   "source": []
  },
  {
   "cell_type": "code",
   "execution_count": 370,
   "id": "87863931-93b6-496e-88fc-a054b07a4075",
   "metadata": {},
   "outputs": [
    {
     "data": {
      "text/plain": [
       "20"
      ]
     },
     "execution_count": 370,
     "metadata": {},
     "output_type": "execute_result"
    }
   ],
   "source": [
    "idx_to_focus_on"
   ]
  },
  {
   "cell_type": "code",
   "execution_count": 375,
   "id": "1d253c6b-791c-4862-b7c1-16a9b1d3257b",
   "metadata": {},
   "outputs": [],
   "source": [
    "label_df = (\n",
    "        pd.Series(all_cluster_summaries[13])\n",
    "             .str.get(0)\n",
    "             .str.split(':', expand=True)\n",
    "             .rename(columns={0:'keyword', 1: 'definition'})\n",
    "             .assign(keyword=lambda df: df['keyword'].str.strip('```').str.replace('\"', ''))\n",
    "    )"
   ]
  },
  {
   "cell_type": "code",
   "execution_count": 376,
   "id": "a4b4357e-bde3-4c39-8ef2-0ddbf18bcf87",
   "metadata": {},
   "outputs": [],
   "source": [
    "import pyperclip\n",
    "pyperclip.copy(label_df.to_csv(sep='\\t'))"
   ]
  },
  {
   "cell_type": "code",
   "execution_count": null,
   "id": "e255ebbf-7385-432c-9fd2-e379d51401ca",
   "metadata": {},
   "outputs": [],
   "source": []
  },
  {
   "cell_type": "code",
   "execution_count": null,
   "id": "f9ff707d-b649-445c-8d61-961adbc3ace6",
   "metadata": {},
   "outputs": [],
   "source": []
  },
  {
   "cell_type": "code",
   "execution_count": null,
   "id": "720228e4-d6fd-4619-aa75-b16f488e32d7",
   "metadata": {},
   "outputs": [],
   "source": []
  },
  {
   "cell_type": "code",
   "execution_count": null,
   "id": "68c4153b-8c7d-4e35-a395-b1346a79a0cf",
   "metadata": {},
   "outputs": [],
   "source": []
  },
  {
   "cell_type": "code",
   "execution_count": null,
   "id": "ba8698bf-cbcd-4c36-8d0d-5d28868ed621",
   "metadata": {},
   "outputs": [],
   "source": []
  },
  {
   "cell_type": "code",
   "execution_count": null,
   "id": "265cf640-8684-470e-b1ab-04805e20f7a9",
   "metadata": {},
   "outputs": [],
   "source": []
  },
  {
   "cell_type": "code",
   "execution_count": null,
   "id": "29d7e912-09f0-4297-9f8a-01f57bd3bbd5",
   "metadata": {},
   "outputs": [],
   "source": []
  },
  {
   "cell_type": "markdown",
   "id": "14c742eb-9cd3-4d0e-b2dc-159ddfeaebdc",
   "metadata": {},
   "source": [
    "# Try with the results we have"
   ]
  },
  {
   "cell_type": "code",
   "execution_count": 113,
   "id": "3c295c9e-abf1-4ae2-a9a8-51d1cfacc20c",
   "metadata": {},
   "outputs": [
    {
     "data": {
      "text/html": [
       "<div>\n",
       "<style scoped>\n",
       "    .dataframe tbody tr th:only-of-type {\n",
       "        vertical-align: middle;\n",
       "    }\n",
       "\n",
       "    .dataframe tbody tr th {\n",
       "        vertical-align: top;\n",
       "    }\n",
       "\n",
       "    .dataframe thead th {\n",
       "        text-align: right;\n",
       "    }\n",
       "</style>\n",
       "<table border=\"1\" class=\"dataframe\">\n",
       "  <thead>\n",
       "    <tr style=\"text-align: right;\">\n",
       "      <th></th>\n",
       "      <th>key</th>\n",
       "      <th>sentences</th>\n",
       "      <th>discourse_label</th>\n",
       "      <th>cluster_20</th>\n",
       "      <th>keyword</th>\n",
       "      <th>definition</th>\n",
       "    </tr>\n",
       "  </thead>\n",
       "  <tbody>\n",
       "    <tr>\n",
       "      <th>0</th>\n",
       "      <td>/2023/02/09/the-march-toward-march-red-hot-ind...</td>\n",
       "      <td>The March Toward March: Red-hot Indiana may re...</td>\n",
       "      <td>\\n\\n\"Title\": This sentence serves as the titl...</td>\n",
       "      <td>9</td>\n",
       "      <td>Introduction</td>\n",
       "      <td>This sentence introduces the main topic of th...</td>\n",
       "    </tr>\n",
       "    <tr>\n",
       "      <th>1</th>\n",
       "      <td>/2023/02/09/the-march-toward-march-red-hot-ind...</td>\n",
       "      <td>\\n\\nIndiana forward Trayce Jackson-Davis (23) ...</td>\n",
       "      <td>\\n\\n\"Error\": This sentence was misparsed from...</td>\n",
       "      <td>12</td>\n",
       "      <td>Introduction</td>\n",
       "      <td>Sentences that introduce and provide context ...</td>\n",
       "    </tr>\n",
       "    <tr>\n",
       "      <th>2</th>\n",
       "      <td>/2023/02/09/the-march-toward-march-red-hot-ind...</td>\n",
       "      <td>\\n\\nIf you look up the word “underachieving” i...</td>\n",
       "      <td>\\n\\n\"Introduction\": This sentence introduces ...</td>\n",
       "      <td>9</td>\n",
       "      <td>Introduction</td>\n",
       "      <td>This sentence introduces the main topic of th...</td>\n",
       "    </tr>\n",
       "    <tr>\n",
       "      <th>3</th>\n",
       "      <td>/2023/02/09/the-march-toward-march-red-hot-ind...</td>\n",
       "      <td>The Hoosiers, a ‘blue blood’ of college basket...</td>\n",
       "      <td>\\n\\n\"Background Information\": This sentence p...</td>\n",
       "      <td>19</td>\n",
       "      <td>Background Information</td>\n",
       "      <td>This label encompasses sentences that provide...</td>\n",
       "    </tr>\n",
       "    <tr>\n",
       "      <th>4</th>\n",
       "      <td>/2023/02/09/the-march-toward-march-red-hot-ind...</td>\n",
       "      <td>Last year in their appearance at the Big Dance...</td>\n",
       "      <td>\\n\\n\"Background Information\": This sentence p...</td>\n",
       "      <td>19</td>\n",
       "      <td>Background Information</td>\n",
       "      <td>This label encompasses sentences that provide...</td>\n",
       "    </tr>\n",
       "    <tr>\n",
       "      <th>...</th>\n",
       "      <td>...</td>\n",
       "      <td>...</td>\n",
       "      <td>...</td>\n",
       "      <td>...</td>\n",
       "      <td>...</td>\n",
       "      <td>...</td>\n",
       "    </tr>\n",
       "    <tr>\n",
       "      <th>44905</th>\n",
       "      <td>/2023/02/09/organized-collective-of-students-f...</td>\n",
       "      <td>\\n\\nThe occupational therapy professional fiel...</td>\n",
       "      <td>\\n\\n\"Background Information\": This sentence p...</td>\n",
       "      <td>19</td>\n",
       "      <td>Background Information</td>\n",
       "      <td>This label encompasses sentences that provide...</td>\n",
       "    </tr>\n",
       "    <tr>\n",
       "      <th>44906</th>\n",
       "      <td>/2023/02/09/organized-collective-of-students-f...</td>\n",
       "      <td>\\n\\n“I have grandparents who have been mistrea...</td>\n",
       "      <td>\\n\\n\"Personal Motivation\": This sentence prov...</td>\n",
       "      <td>11</td>\n",
       "      <td>Personal Reflection</td>\n",
       "      <td>This label encompasses sentences that provide...</td>\n",
       "    </tr>\n",
       "    <tr>\n",
       "      <th>44907</th>\n",
       "      <td>/2023/02/09/organized-collective-of-students-f...</td>\n",
       "      <td>Clark said. \"</td>\n",
       "      <td>\\n\\n\"Error\": This sentence was misparsed from...</td>\n",
       "      <td>12</td>\n",
       "      <td>Introduction</td>\n",
       "      <td>Sentences that introduce and provide context ...</td>\n",
       "    </tr>\n",
       "    <tr>\n",
       "      <th>44908</th>\n",
       "      <td>/2023/02/09/organized-collective-of-students-f...</td>\n",
       "      <td>That’s why I went into the field in the first ...</td>\n",
       "      <td>\\n\\n\"Personal Motivation\": This sentence expl...</td>\n",
       "      <td>11</td>\n",
       "      <td>Personal Reflection</td>\n",
       "      <td>This label encompasses sentences that provide...</td>\n",
       "    </tr>\n",
       "    <tr>\n",
       "      <th>44909</th>\n",
       "      <td>/2023/02/09/organized-collective-of-students-f...</td>\n",
       "      <td>\\n\\nMore information on the collective’s deman...</td>\n",
       "      <td>\\n\\n\"Call to Action\": This sentence provides ...</td>\n",
       "      <td>2</td>\n",
       "      <td>Future Outlook</td>\n",
       "      <td>This description provides a forward-looking p...</td>\n",
       "    </tr>\n",
       "  </tbody>\n",
       "</table>\n",
       "<p>44910 rows × 6 columns</p>\n",
       "</div>"
      ],
      "text/plain": [
       "                                                     key  \\\n",
       "0      /2023/02/09/the-march-toward-march-red-hot-ind...   \n",
       "1      /2023/02/09/the-march-toward-march-red-hot-ind...   \n",
       "2      /2023/02/09/the-march-toward-march-red-hot-ind...   \n",
       "3      /2023/02/09/the-march-toward-march-red-hot-ind...   \n",
       "4      /2023/02/09/the-march-toward-march-red-hot-ind...   \n",
       "...                                                  ...   \n",
       "44905  /2023/02/09/organized-collective-of-students-f...   \n",
       "44906  /2023/02/09/organized-collective-of-students-f...   \n",
       "44907  /2023/02/09/organized-collective-of-students-f...   \n",
       "44908  /2023/02/09/organized-collective-of-students-f...   \n",
       "44909  /2023/02/09/organized-collective-of-students-f...   \n",
       "\n",
       "                                               sentences  \\\n",
       "0      The March Toward March: Red-hot Indiana may re...   \n",
       "1      \\n\\nIndiana forward Trayce Jackson-Davis (23) ...   \n",
       "2      \\n\\nIf you look up the word “underachieving” i...   \n",
       "3      The Hoosiers, a ‘blue blood’ of college basket...   \n",
       "4      Last year in their appearance at the Big Dance...   \n",
       "...                                                  ...   \n",
       "44905  \\n\\nThe occupational therapy professional fiel...   \n",
       "44906  \\n\\n“I have grandparents who have been mistrea...   \n",
       "44907                                      Clark said. \"   \n",
       "44908  That’s why I went into the field in the first ...   \n",
       "44909  \\n\\nMore information on the collective’s deman...   \n",
       "\n",
       "                                         discourse_label  cluster_20  \\\n",
       "0       \\n\\n\"Title\": This sentence serves as the titl...           9   \n",
       "1       \\n\\n\"Error\": This sentence was misparsed from...          12   \n",
       "2       \\n\\n\"Introduction\": This sentence introduces ...           9   \n",
       "3       \\n\\n\"Background Information\": This sentence p...          19   \n",
       "4       \\n\\n\"Background Information\": This sentence p...          19   \n",
       "...                                                  ...         ...   \n",
       "44905   \\n\\n\"Background Information\": This sentence p...          19   \n",
       "44906   \\n\\n\"Personal Motivation\": This sentence prov...          11   \n",
       "44907   \\n\\n\"Error\": This sentence was misparsed from...          12   \n",
       "44908   \\n\\n\"Personal Motivation\": This sentence expl...          11   \n",
       "44909   \\n\\n\"Call to Action\": This sentence provides ...           2   \n",
       "\n",
       "                      keyword  \\\n",
       "0                Introduction   \n",
       "1                Introduction   \n",
       "2                Introduction   \n",
       "3      Background Information   \n",
       "4      Background Information   \n",
       "...                       ...   \n",
       "44905  Background Information   \n",
       "44906     Personal Reflection   \n",
       "44907            Introduction   \n",
       "44908     Personal Reflection   \n",
       "44909          Future Outlook   \n",
       "\n",
       "                                              definition  \n",
       "0       This sentence introduces the main topic of th...  \n",
       "1       Sentences that introduce and provide context ...  \n",
       "2       This sentence introduces the main topic of th...  \n",
       "3       This label encompasses sentences that provide...  \n",
       "4       This label encompasses sentences that provide...  \n",
       "...                                                  ...  \n",
       "44905   This label encompasses sentences that provide...  \n",
       "44906   This label encompasses sentences that provide...  \n",
       "44907   Sentences that introduce and provide context ...  \n",
       "44908   This label encompasses sentences that provide...  \n",
       "44909   This description provides a forward-looking p...  \n",
       "\n",
       "[44910 rows x 6 columns]"
      ]
     },
     "execution_count": 113,
     "metadata": {},
     "output_type": "execute_result"
    }
   ],
   "source": [
    "example_df"
   ]
  },
  {
   "cell_type": "code",
   "execution_count": null,
   "id": "fc694f0b-f243-4084-924c-6d12f525846d",
   "metadata": {},
   "outputs": [],
   "source": []
  },
  {
   "cell_type": "code",
   "execution_count": null,
   "id": "40460b9d-985f-41bb-8132-4c67fe35c19a",
   "metadata": {},
   "outputs": [],
   "source": []
  },
  {
   "cell_type": "code",
   "execution_count": null,
   "id": "ae9a2254-3dc8-4013-b8d9-2dc1bf9453d2",
   "metadata": {},
   "outputs": [],
   "source": []
  }
 ],
 "metadata": {
  "kernelspec": {
   "display_name": "Python 3 (ipykernel)",
   "language": "python",
   "name": "python3"
  },
  "language_info": {
   "codemirror_mode": {
    "name": "ipython",
    "version": 3
   },
   "file_extension": ".py",
   "mimetype": "text/x-python",
   "name": "python",
   "nbconvert_exporter": "python",
   "pygments_lexer": "ipython3",
   "version": "3.12.2"
  }
 },
 "nbformat": 4,
 "nbformat_minor": 5
}
