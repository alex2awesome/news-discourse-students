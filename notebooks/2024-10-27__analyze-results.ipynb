{
 "cells": [
  {
   "cell_type": "code",
   "execution_count": 4,
   "id": "53e16254-3f26-4b0f-930f-25d8854f1843",
   "metadata": {},
   "outputs": [],
   "source": [
    "import pandas as pd "
   ]
  },
  {
   "cell_type": "code",
   "execution_count": 7,
   "id": "ffb94105-fcfc-4e61-96a0-48d85f2416cc",
   "metadata": {},
   "outputs": [],
   "source": [
    "all_discourse = pd.read_csv('../data/all_extracted_discourse.csv.gz', index_col=0)"
   ]
  },
  {
   "cell_type": "code",
   "execution_count": 15,
   "id": "968142ec-c003-4c18-83fd-cf106087db66",
   "metadata": {},
   "outputs": [
    {
     "data": {
      "text/plain": [
       "discourse_label\n",
       "\"Quote\"                     15253\n",
       "\"Background Information\"    13384\n",
       "\"Transition\"                13362\n",
       "\"Current Context\"           12700\n",
       "\"Specific Detail\"            6210\n",
       "\"Main Event\"                 5408\n",
       "\"Error\"                      5003\n",
       "\"Supporting Detail\"          4688\n",
       "\"Contextual Background\"      4331\n",
       "\"Introduction\"               3911\n",
       "\"Counterpoint\"               3061\n",
       "\"Specific Example\"           2996\n",
       "\"Contrast\"                   2437\n",
       "\"Analysis\"                   2333\n",
       "\"Supporting Evidence\"        2171\n",
       "\"Quote Context\"              2051\n",
       "\"Quote Introduction\"         1970\n",
       "\"Quotation\"                  1883\n",
       "\"Event Description\"          1788\n",
       "\"Image Caption\"              1727\n",
       "Name: count, dtype: int64"
      ]
     },
     "execution_count": 15,
     "metadata": {},
     "output_type": "execute_result"
    }
   ],
   "source": [
    "all_discourse['discourse_label'].str.strip().str.split(':').str.get(0).value_counts().head(20)"
   ]
  },
  {
   "cell_type": "code",
   "execution_count": null,
   "id": "0be15234-acc0-4891-acd5-0b4e62c38e40",
   "metadata": {},
   "outputs": [],
   "source": []
  },
  {
   "cell_type": "code",
   "execution_count": null,
   "id": "d8c58c60-4b72-493b-9520-a69e5e3d6c15",
   "metadata": {},
   "outputs": [],
   "source": []
  }
 ],
 "metadata": {
  "kernelspec": {
   "display_name": "Python 3 (ipykernel)",
   "language": "python",
   "name": "python3"
  },
  "language_info": {
   "codemirror_mode": {
    "name": "ipython",
    "version": 3
   },
   "file_extension": ".py",
   "mimetype": "text/x-python",
   "name": "python",
   "nbconvert_exporter": "python",
   "pygments_lexer": "ipython3",
   "version": "3.12.2"
  }
 },
 "nbformat": 4,
 "nbformat_minor": 5
}
