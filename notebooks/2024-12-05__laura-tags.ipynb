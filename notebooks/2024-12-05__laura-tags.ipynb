{
 "cells": [
  {
   "cell_type": "code",
   "execution_count": null,
   "id": "1808dfd7-02d6-41f7-869b-ccdf3097cd42",
   "metadata": {},
   "outputs": [],
   "source": [
    "Headline\n",
    "Introduction\n",
    "Lede\n",
    "Nut graf\n",
    "Background information\n",
    "Opinion\n",
    "Color\n",
    "Transition\n",
    "Supporting detail\n",
    "Sourcing/source information"
   ]
  }
 ],
 "metadata": {
  "kernelspec": {
   "display_name": "Python 3 (ipykernel)",
   "language": "python",
   "name": "python3"
  },
  "language_info": {
   "codemirror_mode": {
    "name": "ipython",
    "version": 3
   },
   "file_extension": ".py",
   "mimetype": "text/x-python",
   "name": "python",
   "nbconvert_exporter": "python",
   "pygments_lexer": "ipython3",
   "version": "3.12.2"
  }
 },
 "nbformat": 4,
 "nbformat_minor": 5
}
